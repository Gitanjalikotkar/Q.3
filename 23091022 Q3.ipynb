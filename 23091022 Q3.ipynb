{
 "cells": [
  {
   "cell_type": "code",
   "execution_count": 42,
   "id": "5c0492cd-1311-4b69-b4d1-757865f905cd",
   "metadata": {},
   "outputs": [],
   "source": [
    "#Q3. Singular Value Decomposition (SVD):\n",
    "#Perform Singular Value Decomposition on the matrix A obtained in Question 2.\n",
    "# Separate and print matrices U, Σ, and 𝑉் . Verify that A equals the product of U, Σ, and 𝑉் . \n",
    "#Additionally, find the rank 2 and rank 3 approximations of matrix A"
   ]
  },
  {
   "cell_type": "code",
   "execution_count": 43,
   "id": "e94ef3a4-bf5c-43b7-9aaa-72afdb28a151",
   "metadata": {},
   "outputs": [],
   "source": [
    "import numpy as np\n",
    "import sympy as sp\n"
   ]
  },
  {
   "cell_type": "code",
   "execution_count": 44,
   "id": "a2243175-b2fa-435f-91fa-11d92f6a6c59",
   "metadata": {},
   "outputs": [
    {
     "name": "stdout",
     "output_type": "stream",
     "text": [
      "Matrix A:\n",
      "[[5 4 0 4 6]\n",
      " [6 4 8 4 2]\n",
      " [8 7 2 9 8]\n",
      " [8 5 4 2 2]\n",
      " [1 6 9 3 3]]\n"
     ]
    }
   ],
   "source": [
    "# Define the matrix A\n",
    "\n",
    "np.random.seed(22)\n",
    "A = np.random.randint(0, 10, size=(5, 5))\n",
    "print(\"Matrix A:\")\n",
    "print(A)"
   ]
  },
  {
   "cell_type": "code",
   "execution_count": 45,
   "id": "6174f84e-9d23-44a0-9c22-efedb25154af",
   "metadata": {},
   "outputs": [],
   "source": [
    "# Perform Singular Value Decomposition\n",
    "U, Sigma, Vt = np.linalg.svd(A)"
   ]
  },
  {
   "cell_type": "code",
   "execution_count": 46,
   "id": "3114e335-931f-4800-82d7-54a2a2f9f0fd",
   "metadata": {},
   "outputs": [
    {
     "name": "stdout",
     "output_type": "stream",
     "text": [
      "Matrix U:\n",
      "[[-0.34966012  0.41846152 -0.11715402  0.39622406 -0.72932105]\n",
      " [-0.43353269 -0.41989712  0.28603192 -0.61798002 -0.41475566]\n",
      " [-0.62245303  0.49217946 -0.25866209 -0.31889741  0.44912133]\n",
      " [-0.39627638 -0.0739169   0.72897936  0.47278946  0.28733349]\n",
      " [-0.38118822 -0.63314456 -0.55330253  0.36862144  0.1086188 ]]\n",
      "\n",
      "Matrix Sigma:\n",
      "[[24.70467411  0.          0.          0.          0.        ]\n",
      " [ 0.          9.70171042  0.          0.          0.        ]\n",
      " [ 0.          0.          5.3650222   0.          0.        ]\n",
      " [ 0.          0.          0.          2.36583297  0.        ]\n",
      " [ 0.          0.          0.          0.          1.08409568]]\n",
      "\n",
      "Matrix Vt (transpose of V):\n",
      "[[-0.52137989 -0.47596069 -0.39381079 -0.43194117 -0.3999554 ]\n",
      " [ 0.23561627 -0.07513501 -0.86260941  0.24496765  0.36706343]\n",
      " [ 0.80887963 -0.15098564 -0.05458954 -0.34564554 -0.44773455]\n",
      " [-0.05368171  0.61558456 -0.1576122  -0.72095423  0.27121453]\n",
      " [-0.12441868  0.60504144 -0.27017855  0.33789323 -0.65671651]]\n"
     ]
    }
   ],
   "source": [
    "# Print matrices U, Sigma, and Vt\n",
    "print(\"Matrix U:\")\n",
    "print(U)\n",
    "print(\"\\nMatrix Sigma:\")\n",
    "print(np.diag(Sigma))\n",
    "print(\"\\nMatrix Vt (transpose of V):\")\n",
    "print(Vt)\n"
   ]
  },
  {
   "cell_type": "code",
   "execution_count": 47,
   "id": "60e9570c-5fa7-48a0-a0e0-474369f281a6",
   "metadata": {},
   "outputs": [],
   "source": [
    "\n",
    "#U\n",
    "U=sp.Matrix(np.round(U,3))"
   ]
  },
  {
   "cell_type": "code",
   "execution_count": 48,
   "id": "f40cffe3-44d3-4dbb-8070-0395fe046ee9",
   "metadata": {},
   "outputs": [
    {
     "data": {
      "text/latex": [
       "$\\displaystyle \\left[\\begin{matrix}-0.35 & 0.418 & -0.117 & 0.396 & -0.729\\\\-0.434 & -0.42 & 0.286 & -0.618 & -0.415\\\\-0.622 & 0.492 & -0.259 & -0.319 & 0.449\\\\-0.396 & -0.074 & 0.729 & 0.473 & 0.287\\\\-0.381 & -0.633 & -0.553 & 0.369 & 0.109\\end{matrix}\\right]$"
      ],
      "text/plain": [
       "Matrix([\n",
       "[ -0.35,  0.418, -0.117,  0.396, -0.729],\n",
       "[-0.434,  -0.42,  0.286, -0.618, -0.415],\n",
       "[-0.622,  0.492, -0.259, -0.319,  0.449],\n",
       "[-0.396, -0.074,  0.729,  0.473,  0.287],\n",
       "[-0.381, -0.633, -0.553,  0.369,  0.109]])"
      ]
     },
     "execution_count": 48,
     "metadata": {},
     "output_type": "execute_result"
    }
   ],
   "source": [
    "U"
   ]
  },
  {
   "cell_type": "code",
   "execution_count": 49,
   "id": "080023d1-cc5e-4b7b-a658-54fe8ae47485",
   "metadata": {},
   "outputs": [],
   "source": [
    "#create a sigma matrix\n",
    "Sigma=np.zeros((A.shape[0],A.shape[1]))"
   ]
  },
  {
   "cell_type": "code",
   "execution_count": 50,
   "id": "b69499a7-8676-4ffb-a83b-1ed9097be786",
   "metadata": {},
   "outputs": [
    {
     "data": {
      "text/plain": [
       "array([24.70467411,  9.70171042,  5.3650222 ,  2.36583297,  1.08409568])"
      ]
     },
     "execution_count": 50,
     "metadata": {},
     "output_type": "execute_result"
    }
   ],
   "source": [
    "s"
   ]
  },
  {
   "cell_type": "code",
   "execution_count": 51,
   "id": "2fb07cb3-4ee5-4570-a942-9af69927423c",
   "metadata": {},
   "outputs": [
    {
     "data": {
      "text/latex": [
       "$\\displaystyle \\left[\\begin{matrix}0 & 0 & 0 & 0 & 0\\\\0 & 0 & 0 & 0 & 0\\\\0 & 0 & 0 & 0 & 0\\\\0 & 0 & 0 & 0 & 0\\\\0 & 0 & 0 & 0 & 0\\end{matrix}\\right]$"
      ],
      "text/plain": [
       "Matrix([\n",
       "[0, 0, 0, 0, 0],\n",
       "[0, 0, 0, 0, 0],\n",
       "[0, 0, 0, 0, 0],\n",
       "[0, 0, 0, 0, 0],\n",
       "[0, 0, 0, 0, 0]])"
      ]
     },
     "execution_count": 51,
     "metadata": {},
     "output_type": "execute_result"
    }
   ],
   "source": [
    "Sigma=np.zeros((A.shape[0],A.shape[1]))\n",
    "sp.Matrix(Sigma)"
   ]
  },
  {
   "cell_type": "code",
   "execution_count": 52,
   "id": "0c8dc5f8-4863-482f-b97c-6af5fcfd1b00",
   "metadata": {},
   "outputs": [
    {
     "data": {
      "text/latex": [
       "$\\displaystyle \\left[\\begin{matrix}24.7046741080415 & 0 & 0 & 0 & 0\\\\0 & 9.70171041557809 & 0 & 0 & 0\\\\0 & 0 & 5.36502219661434 & 0 & 0\\\\0 & 0 & 0 & 2.3658329654151 & 0\\\\0 & 0 & 0 & 0 & 1.08409567719716\\end{matrix}\\right]$"
      ],
      "text/plain": [
       "Matrix([\n",
       "[24.7046741080415,                0,                0,               0,                0],\n",
       "[               0, 9.70171041557809,                0,               0,                0],\n",
       "[               0,                0, 5.36502219661434,               0,                0],\n",
       "[               0,                0,                0, 2.3658329654151,                0],\n",
       "[               0,                0,                0,               0, 1.08409567719716]])"
      ]
     },
     "execution_count": 52,
     "metadata": {},
     "output_type": "execute_result"
    }
   ],
   "source": [
    "Sigma[:A.shape[1],:A.shape[0]]=np.diag(s)\n",
    "sp.Matrix(Sigma)"
   ]
  },
  {
   "cell_type": "code",
   "execution_count": 53,
   "id": "06ba3059-65b7-4b81-8cb3-96adb23db95b",
   "metadata": {},
   "outputs": [],
   "source": [
    "Sigma[:A.shape[1],:A.shape[0]]=np.diag(s)"
   ]
  },
  {
   "cell_type": "code",
   "execution_count": 54,
   "id": "bbbb091e-29ba-4a63-bf1d-78934a2fe2ad",
   "metadata": {},
   "outputs": [
    {
     "data": {
      "text/plain": [
       "array([[24.70467411,  0.        ,  0.        ,  0.        ,  0.        ],\n",
       "       [ 0.        ,  9.70171042,  0.        ,  0.        ,  0.        ],\n",
       "       [ 0.        ,  0.        ,  5.3650222 ,  0.        ,  0.        ],\n",
       "       [ 0.        ,  0.        ,  0.        ,  2.36583297,  0.        ],\n",
       "       [ 0.        ,  0.        ,  0.        ,  0.        ,  1.08409568]])"
      ]
     },
     "execution_count": 54,
     "metadata": {},
     "output_type": "execute_result"
    }
   ],
   "source": [
    "Sigma"
   ]
  },
  {
   "cell_type": "code",
   "execution_count": null,
   "id": "33156023-283e-4b9b-adf4-2183193645cf",
   "metadata": {},
   "outputs": [],
   "source": []
  },
  {
   "cell_type": "code",
   "execution_count": 55,
   "id": "66661b7c-c790-4f52-8119-0c48ed066d8d",
   "metadata": {},
   "outputs": [],
   "source": [
    "#Vt\n",
    "Vt=sp.Matrix(np.round(Vt,3))"
   ]
  },
  {
   "cell_type": "code",
   "execution_count": 56,
   "id": "28b7ff94-4af5-4b82-957d-7c15a01b38e2",
   "metadata": {},
   "outputs": [
    {
     "data": {
      "text/latex": [
       "$\\displaystyle \\left[\\begin{matrix}-0.521 & -0.476 & -0.394 & -0.432 & -0.4\\\\0.236 & -0.075 & -0.863 & 0.245 & 0.367\\\\0.809 & -0.151 & -0.055 & -0.346 & -0.448\\\\-0.054 & 0.616 & -0.158 & -0.721 & 0.271\\\\-0.124 & 0.605 & -0.27 & 0.338 & -0.657\\end{matrix}\\right]$"
      ],
      "text/plain": [
       "Matrix([\n",
       "[-0.521, -0.476, -0.394, -0.432,   -0.4],\n",
       "[ 0.236, -0.075, -0.863,  0.245,  0.367],\n",
       "[ 0.809, -0.151, -0.055, -0.346, -0.448],\n",
       "[-0.054,  0.616, -0.158, -0.721,  0.271],\n",
       "[-0.124,  0.605,  -0.27,  0.338, -0.657]])"
      ]
     },
     "execution_count": 56,
     "metadata": {},
     "output_type": "execute_result"
    }
   ],
   "source": [
    "Vt"
   ]
  },
  {
   "cell_type": "code",
   "execution_count": 57,
   "id": "49bc4747-0cf0-451c-b597-4f66f40fc8e6",
   "metadata": {},
   "outputs": [
    {
     "data": {
      "text/latex": [
       "$\\displaystyle \\left[\\begin{matrix}5.00154314740466 & 4.005410784321 & 0.00691878744361615 & 4.00347920935238 & 6.00129057399282\\\\6.00050593186344 & 4.00466688335315 & 8.00897292656129 & 4.00471982134062 & 2.0052593511754\\\\7.98858836243356 & 6.99578334046492 & 1.99926017406373 & 8.99713376852367 & 7.99649228294613\\\\7.99261082571178 & 4.99756543747194 & 3.99816740375612 & 1.9954816620034 & 1.99641156822002\\\\0.992601639461377 & 5.99817901380491 & 9.0016975339466 & 2.99864733637021 & 2.99927593176761\\end{matrix}\\right]$"
      ],
      "text/plain": [
       "Matrix([\n",
       "[ 5.00154314740466,   4.005410784321, 0.00691878744361615, 4.00347920935238, 6.00129057399282],\n",
       "[ 6.00050593186344, 4.00466688335315,    8.00897292656129, 4.00471982134062,  2.0052593511754],\n",
       "[ 7.98858836243356, 6.99578334046492,    1.99926017406373, 8.99713376852367, 7.99649228294613],\n",
       "[ 7.99261082571178, 4.99756543747194,    3.99816740375612,  1.9954816620034, 1.99641156822002],\n",
       "[0.992601639461377, 5.99817901380491,     9.0016975339466, 2.99864733637021, 2.99927593176761]])"
      ]
     },
     "execution_count": 57,
     "metadata": {},
     "output_type": "execute_result"
    }
   ],
   "source": [
    "U@Sigma@Vt"
   ]
  },
  {
   "cell_type": "code",
   "execution_count": 58,
   "id": "c4fdd065-e93f-4d01-8528-da2e008ad3e5",
   "metadata": {},
   "outputs": [],
   "source": [
    "#  find the rank 2 and rank 3 approximation of matrix A"
   ]
  },
  {
   "cell_type": "code",
   "execution_count": null,
   "id": "c353af8c-6c46-4284-bfe2-b78b8c1da13d",
   "metadata": {},
   "outputs": [],
   "source": []
  },
  {
   "cell_type": "code",
   "execution_count": 59,
   "id": "c6655398-a691-4007-bea7-5f90fe508da9",
   "metadata": {},
   "outputs": [
    {
     "data": {
      "text/latex": [
       "$\\displaystyle \\left[\\begin{matrix}4.50489732360137 & 4.11579870639971 & 3.40677455949892 & 3.73534672513587 & 3.45865437512581\\\\5.5860726812657 & 5.10359039593565 & 4.22440045377867 & 4.63182993916848 & 4.288731425156\\\\8.00584610080015 & 7.31436227251606 & 6.05432507430952 & 6.63824475152718 & 6.14652291808073\\\\5.09696954327469 & 4.65673225066939 & 3.85452207303307 & 4.22627800901088 & 3.91322037871377\\\\4.90390251512035 & 4.48034087753797 & 3.70851744905454 & 4.06619172079077 & 3.76499233406552\\end{matrix}\\right]$"
      ],
      "text/plain": [
       "Matrix([\n",
       "[4.50489732360137, 4.11579870639971, 3.40677455949892, 3.73534672513587, 3.45865437512581],\n",
       "[ 5.5860726812657, 5.10359039593565, 4.22440045377867, 4.63182993916848,   4.288731425156],\n",
       "[8.00584610080015, 7.31436227251606, 6.05432507430952, 6.63824475152718, 6.14652291808073],\n",
       "[5.09696954327469, 4.65673225066939, 3.85452207303307, 4.22627800901088, 3.91322037871377],\n",
       "[4.90390251512035, 4.48034087753797, 3.70851744905454, 4.06619172079077, 3.76499233406552]])"
      ]
     },
     "execution_count": 59,
     "metadata": {},
     "output_type": "execute_result"
    }
   ],
   "source": [
    "k=1\n",
    "Uk=U[:,:k]\n",
    "Sigmak=Sigma[:k,:k]\n",
    "Vtk=Vt[:k,:]\n",
    "Ak=Uk@Sigmak@Vtk\n",
    "sp.Matrix(Ak)"
   ]
  },
  {
   "cell_type": "code",
   "execution_count": 60,
   "id": "c49f661f-bc49-4d25-95ae-8353ddb3c029",
   "metadata": {},
   "outputs": [
    {
     "data": {
      "text/latex": [
       "$\\displaystyle \\left[\\begin{matrix}5.46195165267731 & 3.81165008487134 & -0.0929622455542223 & 4.72889888879523 & 4.94695496313798\\\\4.6244391448736 & 5.40919427402636 & 7.7408824110091 & 3.6335239374055 & 2.7933097816988\\\\9.13233110057375 & 6.95636915818123 & 1.93501763869672 & 7.80768892502097 & 7.89830255755917\\\\4.92753887257703 & 4.71057674347585 & 4.47409270359272 & 4.05038599917645 & 3.6497413272475\\\\3.45458339955797 & 4.94092957951754 & 9.00835811316612 & 2.56160196099084 & 1.51117828571216\\end{matrix}\\right]$"
      ],
      "text/plain": [
       "Matrix([\n",
       "[5.46195165267731, 3.81165008487134, -0.0929622455542223, 4.72889888879523, 4.94695496313798],\n",
       "[ 4.6244391448736, 5.40919427402636,     7.7408824110091,  3.6335239374055,  2.7933097816988],\n",
       "[9.13233110057375, 6.95636915818123,    1.93501763869672, 7.80768892502097, 7.89830255755917],\n",
       "[4.92753887257703, 4.71057674347585,    4.47409270359272, 4.05038599917645,  3.6497413272475],\n",
       "[3.45458339955797, 4.94092957951754,    9.00835811316612, 2.56160196099084, 1.51117828571216]])"
      ]
     },
     "execution_count": 60,
     "metadata": {},
     "output_type": "execute_result"
    }
   ],
   "source": [
    "k=2\n",
    "Uk=U[:,:k]\n",
    "Sigmak=Sigma[:k,:k]\n",
    "Vtk=Vt[:k,:]\n",
    "Ak=Uk@Sigmak@Vtk\n",
    "sp.Matrix(Ak)"
   ]
  },
  {
   "cell_type": "code",
   "execution_count": 61,
   "id": "375203a6-dd94-4168-8167-a300e0dec6ab",
   "metadata": {},
   "outputs": [
    {
     "data": {
      "text/latex": [
       "$\\displaystyle \\left[\\begin{matrix}4.95413620670118 & 3.90643393201893 & -0.058438327719009 & 4.94608571735857 & 5.22816796659572\\\\5.86576579059304 & 5.17750042544337 & 7.65649061185635 & 3.10262280091733 & 2.105900217691\\\\8.00819263469495 & 7.16618981126862 & 2.01144237988749 & 8.28847002414836 & 8.52081681307672\\\\8.0916197282745 & 4.12000046509474 & 4.25898213861946 & 2.69714499043563 & 1.89756799801083\\\\1.05439586430323 & 5.38892502800143 & 9.17153526327615 & 3.58813457804663 & 2.84033034479019\\end{matrix}\\right]$"
      ],
      "text/plain": [
       "Matrix([\n",
       "[4.95413620670118, 3.90643393201893, -0.058438327719009, 4.94608571735857, 5.22816796659572],\n",
       "[5.86576579059304, 5.17750042544337,   7.65649061185635, 3.10262280091733,   2.105900217691],\n",
       "[8.00819263469495, 7.16618981126862,   2.01144237988749, 8.28847002414836, 8.52081681307672],\n",
       "[ 8.0916197282745, 4.12000046509474,   4.25898213861946, 2.69714499043563, 1.89756799801083],\n",
       "[1.05439586430323, 5.38892502800143,   9.17153526327615, 3.58813457804663, 2.84033034479019]])"
      ]
     },
     "execution_count": 61,
     "metadata": {},
     "output_type": "execute_result"
    }
   ],
   "source": [
    "k=3\n",
    "Uk=U[:,:k]\n",
    "Sigmak=Sigma[:k,:k]\n",
    "Vtk=Vt[:k,:]\n",
    "Ak=Uk@Sigmak@Vtk\n",
    "sp.Matrix(Ak)"
   ]
  },
  {
   "cell_type": "code",
   "execution_count": null,
   "id": "918107ed-080f-4d37-9b64-b0f56cda5fe2",
   "metadata": {},
   "outputs": [],
   "source": []
  },
  {
   "cell_type": "code",
   "execution_count": null,
   "id": "86274135-dda5-4c69-88a6-cf030c02a321",
   "metadata": {},
   "outputs": [],
   "source": []
  },
  {
   "cell_type": "code",
   "execution_count": null,
   "id": "9d64561d-6206-4b29-a5f5-c46b992ed909",
   "metadata": {},
   "outputs": [],
   "source": []
  },
  {
   "cell_type": "code",
   "execution_count": null,
   "id": "993f1067-9677-42fc-b3d0-22748e85ac16",
   "metadata": {},
   "outputs": [],
   "source": []
  },
  {
   "cell_type": "code",
   "execution_count": null,
   "id": "db03e323-3e17-4520-89eb-4f58c83561ee",
   "metadata": {},
   "outputs": [],
   "source": []
  },
  {
   "cell_type": "code",
   "execution_count": null,
   "id": "f1ea3cc3-bb8a-4787-b233-2308b6577d3c",
   "metadata": {},
   "outputs": [],
   "source": []
  },
  {
   "cell_type": "code",
   "execution_count": null,
   "id": "665097f3-f32b-4795-a57e-25550e8b7659",
   "metadata": {},
   "outputs": [],
   "source": []
  },
  {
   "cell_type": "code",
   "execution_count": null,
   "id": "e8027754-ca1f-460e-aee5-03552053fb01",
   "metadata": {},
   "outputs": [],
   "source": []
  },
  {
   "cell_type": "code",
   "execution_count": null,
   "id": "52f74182-e957-4259-bdb9-6151ba0d6aab",
   "metadata": {},
   "outputs": [],
   "source": []
  },
  {
   "cell_type": "code",
   "execution_count": null,
   "id": "1e7dd3ee-cd3e-48aa-a850-424b461c39cc",
   "metadata": {},
   "outputs": [],
   "source": []
  },
  {
   "cell_type": "code",
   "execution_count": null,
   "id": "9d9f5c11-545e-4b27-a80c-7b9c50e168c9",
   "metadata": {},
   "outputs": [],
   "source": []
  },
  {
   "cell_type": "code",
   "execution_count": null,
   "id": "c01bda86-37d6-4a8f-b6c9-e1916bb96477",
   "metadata": {},
   "outputs": [],
   "source": []
  },
  {
   "cell_type": "code",
   "execution_count": null,
   "id": "a24c0c8a-9479-4239-9a9d-9e62e2ac1bf2",
   "metadata": {},
   "outputs": [],
   "source": []
  },
  {
   "cell_type": "code",
   "execution_count": null,
   "id": "e69a1d2c-b130-4a1e-a8db-fb8fa482561f",
   "metadata": {},
   "outputs": [],
   "source": []
  },
  {
   "cell_type": "code",
   "execution_count": null,
   "id": "1f86081f-f6fa-4ca3-98af-cf3860d06e79",
   "metadata": {},
   "outputs": [],
   "source": []
  }
 ],
 "metadata": {
  "kernelspec": {
   "display_name": "Python 3 (ipykernel)",
   "language": "python",
   "name": "python3"
  },
  "language_info": {
   "codemirror_mode": {
    "name": "ipython",
    "version": 3
   },
   "file_extension": ".py",
   "mimetype": "text/x-python",
   "name": "python",
   "nbconvert_exporter": "python",
   "pygments_lexer": "ipython3",
   "version": "3.11.7"
  }
 },
 "nbformat": 4,
 "nbformat_minor": 5
}
